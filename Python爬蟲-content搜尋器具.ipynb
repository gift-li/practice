{
 "cells": [
  {
   "cell_type": "code",
   "execution_count": 1,
   "metadata": {},
   "outputs": [],
   "source": [
    "import requests\n",
    "from bs4 import BeautifulSoup as bs\n",
    "import lxml\n",
    " \n",
    "result = requests.get(\"https://www.google.com.tw/\")\n",
    "c = result.content\n",
    " \n",
    "soup = bs(c, \"lxml\")\n",
    "links = soup.find_all(\"a\")\n",
    " \n",
    "data = {}\n",
    "for a in links:\n",
    "    title = a.text.strip()\n",
    "    data[title] = a.attrs['href']"
   ]
  }
 ],
 "metadata": {
  "kernelspec": {
   "display_name": "Python 3",
   "language": "python",
   "name": "python3"
  },
  "language_info": {
   "codemirror_mode": {
    "name": "ipython",
    "version": 3
   },
   "file_extension": ".py",
   "mimetype": "text/x-python",
   "name": "python",
   "nbconvert_exporter": "python",
   "pygments_lexer": "ipython3",
   "version": "3.7.3"
  }
 },
 "nbformat": 4,
 "nbformat_minor": 2
}
