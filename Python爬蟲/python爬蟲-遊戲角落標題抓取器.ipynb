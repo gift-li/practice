{
 "cells": [
  {
   "cell_type": "code",
   "execution_count": 21,
   "metadata": {},
   "outputs": [
    {
     "name": "stdout",
     "output_type": "stream",
     "text": [
      "萊斯聊Game／動畫黃遊《Super Naughty Maid》　真正的遊戲性在螢幕之外❤\n",
      "《Fate/Grand Order》那些英靈的故事：黑鬍子愛德華·蒂奇\n",
      "《隻狼》需要簡單模式嗎？設計難易度選項的三大意義\n",
      "井川一／回顧E3 2019十大重磅新聞　你最喜歡哪個消息？\n",
      "評測／時空旅行拯救世界 《命運連動》溫馨的回合制童話小品\n",
      "沒有主角怎麼玩？帶你剖析《看門狗：自由軍團》的奧妙\n",
      "萊斯聊Game／《VoiceActress》聲優情緒滿到溢出來的益智小黃遊 \n",
      "爐石／姆咪下去！打頭薩再次崛起，Token德也想炸彈快遞\n",
      "《閃耀暖暖》新手攻略 養女兒你不可不知的大小事\n",
      "戀與製作人／活動【海角假日】超完整攻略&耗鑽、禮包大解析\n",
      "吃雞預備！Youtuber自製百人《瑪利歐大逃殺》網頁版免費玩\n",
      "什麼叫做「小島秀夫遊戲」？神級製作人小島秀夫親自解釋\n",
      "YT頻道「最強聯盟」宣布暫停更新 鍾培生：私信了請查看\n",
      "Xbox負責人：E3少了索尼跟動視，感覺不如以前好\n",
      "手遊玩家算不算真正的「玩家」 遊戲製作人有話要說\n",
      "《魔物獵人世界 ICEBORNE》亞洲典藏版限量預購開跑，還有台灣獨家特典！\n",
      "《電馭叛客 2077》設計師：基努李維是重要角色、玩家可以不殺一人通關\n",
      "《英雄聯盟》自走棋有望出手機版？Riot設計師：不排除任何可能性\n",
      "SE 社考慮推自家訂閱服務　總裁：舊遊戲要先找到程式碼\n",
      "知名實況主Toyz稱「不care香港發生什麼事」　引撻伐後向大眾道歉\n",
      "金剛直播／【電競網紅爭霸戰】誰才是最強實況主？館長號召全民電競啟航！\n",
      "Yahoo「名人邀請賽」6月底開打！ 爐石、絕地求生30天看到飽\n",
      " LOL／LEC首位義籍選手VIT Jiizuke：披薩，我只吃義大利的\n",
      "ahq執行長：Garena的態度是LMS實力無法提升的最大關鍵\n",
      "爐石／亞太大師職業賽上演台灣內戰　承泰不要vs.薛喜就在今晚\n",
      "LOL／MSI賽後聯訪 G2 Wunder：我們對上北美是91開\n",
      "歐洲文藝復興再臨！《英雄聯盟》MSI冠軍賽G2 3：0橫掃TL\n",
      "《英雄聯盟》MSI冠軍賽 西門專訪：中野的發揮是決賽最大看點\n",
      "LOL／MSI賽後聯訪 法王：拿法師打下路我會玩得更加舒服\n",
      "冠軍賽將是歐美大戰！《英雄聯盟》MSI四強賽G2 3：2擊敗SKT\n",
      "[<h3>冠軍賽將是歐美大戰！《英雄聯盟》MSI四強賽G2 3：2擊敗SKT</h3>]\n"
     ]
    }
   ],
   "source": [
    "#udn遊戲角落標題抓取器0.1\n",
    "import requests\n",
    "from bs4 import BeautifulSoup\n",
    "import lxml\n",
    "from pprint import pprint\n",
    "\n",
    "res = requests.get('https://game.udn.com/game/index?familybar_show')\n",
    "soup = BeautifulSoup(res.text, \"lxml\")\n",
    "item1 = soup.find_all('a', class_='category_box_topic')\n",
    "for i in item1:\n",
    "    print(i.select('h3')[0].text)"
   ]
  }
 ],
 "metadata": {
  "kernelspec": {
   "display_name": "Python 3",
   "language": "python",
   "name": "python3"
  },
  "language_info": {
   "codemirror_mode": {
    "name": "ipython",
    "version": 3
   },
   "file_extension": ".py",
   "mimetype": "text/x-python",
   "name": "python",
   "nbconvert_exporter": "python",
   "pygments_lexer": "ipython3",
   "version": "3.7.3"
  }
 },
 "nbformat": 4,
 "nbformat_minor": 2
}
