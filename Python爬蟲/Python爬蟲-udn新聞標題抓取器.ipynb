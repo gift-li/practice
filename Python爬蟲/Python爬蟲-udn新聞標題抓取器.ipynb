{
 "cells": [
  {
   "cell_type": "code",
   "execution_count": null,
   "metadata": {},
   "outputs": [],
   "source": [
    "import requests\n",
    "from bs4 import BeautifulSoup\n",
    "import lxml\n",
    "from pprint import pprint\n",
    "\n",
    "res = requests.get('https://udn.com/news/index')\n",
    "soup = BeautifulSoup(res.text, \"lxml\")\n",
    "soup1 = soup.find_all('a')\n",
    "#del soup1[0],soup1[1]\n",
    "q = {}\n",
    "for i in soup1:\n",
    "    title = i.text\n",
    "    q[title] = i.attrs['href']\n",
    "pprint(q)"
   ]
  },
  {
   "cell_type": "code",
   "execution_count": null,
   "metadata": {},
   "outputs": [],
   "source": [
    "import requests\n",
    "from bs4 import BeautifulSoup\n",
    "from pprint import pprint\n",
    "\n",
    "con = str(input())\n",
    "result = requests.get(\"https://www.google.com.tw/\"+)\n",
    "c = result.content\n",
    " \n",
    "soup = BeautifulSoup(c, \"html.parser\")\n",
    "links = soup.find_all(\"a\")\n",
    " \n",
    "data = {}\n",
    "for a in links:\n",
    "    title = a.text.strip()\n",
    "    data[title] = a.attrs['href']\n",
    "pprint(data)"
   ]
  }
 ],
 "metadata": {
  "kernelspec": {
   "display_name": "Python 3",
   "language": "python",
   "name": "python3"
  },
  "language_info": {
   "codemirror_mode": {
    "name": "ipython",
    "version": 3
   },
   "file_extension": ".py",
   "mimetype": "text/x-python",
   "name": "python",
   "nbconvert_exporter": "python",
   "pygments_lexer": "ipython3",
   "version": "3.7.3"
  }
 },
 "nbformat": 4,
 "nbformat_minor": 2
}
