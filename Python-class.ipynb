{
 "cells": [
  {
   "cell_type": "code",
   "execution_count": null,
   "metadata": {},
   "outputs": [],
   "source": [
    "# basic class\n",
    "class Dog:\n",
    "    def __init__(self, blood, age):\n",
    "        self.bloodtype = blood\n",
    "        self.dog_age = age\n",
    "d = Dog(\"B\",23)\n",
    "c = Dog(\"O\",4)\n",
    "print(d.bloodtype)"
   ]
  },
  {
   "cell_type": "code",
   "execution_count": null,
   "metadata": {},
   "outputs": [],
   "source": [
    "# (class practice)project : bank account\n",
    "def build():\n",
    "    name = input('帳戶名稱: ')\n",
    "    money = int(input('儲存金額: '))\n",
    "    password = input('請輸入密碼: ')\n",
    "    if name == '':\n",
    "        print('無輸入名字!')\n",
    "    elif money <= 0:\n",
    "        print('金額不足!')\n",
    "    elif password == '':\n",
    "        print('未設定密碼')\n",
    "    else:\n",
    "        print('創帳成功!\\n帳戶名為:',name,'\\n帳戶金額:',money,'\\n請牢記您的密碼!')\n",
    "    acc = Account(name, money, password)\n",
    "    return acc\n",
    "class Account:\n",
    "    def __init__(self, name, money, password):\n",
    "        self.acc_name = name\n",
    "        self.acc_money = money\n",
    "        self.acc_pw = password\n",
    "    def pw_check(self):\n",
    "        check = input('密碼驗證: ')\n",
    "        if check == self.acc_pw:\n",
    "            print('密碼驗證成功!')\n",
    "            continue\n",
    "        else:\n",
    "            print('密碼輸入錯誤!')\n",
    "    def withdraw(self, take):\n",
    "        if take <= self.acc_money:\n",
    "            print('可以提領，請稍後...')\n",
    "            self.acc_money -= take\n",
    "            print('帳戶剩餘金額:',self.acc_money)\n",
    "        else:\n",
    "            print('金額不足，無法提領')\n",
    "    def save(self, savemoney):\n",
    "        print('帳戶金額:',self.acc_money)\n",
    "        ch = input('確定執行?y/n: ')\n",
    "        if ch == 'y':\n",
    "            self.acc_money += savemoney\n",
    "            print('存款成功，剩餘金額為:',self.acc_money)\n",
    "        else:\n",
    "            print('存款失敗')\n",
    "while True:\n",
    "    write = input('您的動作:')\n",
    "    if write == 'build':\n",
    "        acc = build()\n",
    "    elif write == 'withdraw':\n",
    "        acc.pw_check()\n",
    "        take = int(input('我要提領:'))\n",
    "        acc.withdraw(take)\n",
    "    elif write == 'save':\n",
    "        acc.pw_check()\n",
    "        savemoney = int(input('我要存款:'))\n",
    "        acc.save(savemoney)\n",
    "    elif write == 'leave':\n",
    "        print('多謝光臨，期待您的下次到來!')\n",
    "        break"
   ]
  },
  {
   "cell_type": "code",
   "execution_count": null,
   "metadata": {},
   "outputs": [],
   "source": [
    "# (class test) : whether class can save in the list and get correct identity\n",
    "class A:\n",
    "    def __init__ (self, money):\n",
    "        self.m = money\n",
    "c = []\n",
    "ct = 0\n",
    "while True:\n",
    "    a = int(input())\n",
    "    if a == 0:\n",
    "        break\n",
    "    else:\n",
    "        b = A(a)\n",
    "        c.append(b)\n",
    "        print(c)\n",
    "print(c[2].m)"
   ]
  }
 ],
 "metadata": {
  "kernelspec": {
   "display_name": "Python 3",
   "language": "python",
   "name": "python3"
  },
  "language_info": {
   "codemirror_mode": {
    "name": "ipython",
    "version": 3
   },
   "file_extension": ".py",
   "mimetype": "text/x-python",
   "name": "python",
   "nbconvert_exporter": "python",
   "pygments_lexer": "ipython3",
   "version": "3.7.3"
  }
 },
 "nbformat": 4,
 "nbformat_minor": 2
}
