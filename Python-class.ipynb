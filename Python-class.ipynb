{
 "cells": [
  {
   "cell_type": "code",
   "execution_count": null,
   "metadata": {},
   "outputs": [],
   "source": [
    "class Dog:\n",
    "    def __init__(self, blood, age):\n",
    "        self.bloodtype = blood\n",
    "        self.dog_age = age\n",
    "d = Dog(\"B\",23)\n",
    "c = Dog(\"O\",4)\n",
    "print(d.bloodtype)"
   ]
  },
  {
   "cell_type": "code",
   "execution_count": 1,
   "metadata": {},
   "outputs": [
    {
     "name": "stdout",
     "output_type": "stream",
     "text": [
      "您的動作:build\n",
      "帳戶名稱: gift\n",
      "儲存金額: 1000\n",
      "創帳成功!\n",
      "帳戶名為: gift \n",
      "帳戶金額: 1000\n",
      "您的動作:save\n",
      "我要存款:1000\n",
      "帳戶金額: 1000\n",
      "確定執行?y/n: y\n",
      "存款成功，剩餘金額為: 2000\n",
      "您的動作:withdraw\n",
      "我要提領:100\n",
      "可以提領，請稍後...\n",
      "帳戶剩餘金額: 1900\n",
      "您的動作:leave\n"
     ]
    }
   ],
   "source": [
    "def build():\n",
    "    name = input('帳戶名稱: ')\n",
    "    money = int(input('儲存金額: '))\n",
    "    acc =  Account(name, money)\n",
    "    if acc == None:\n",
    "        print('創帳失敗!')\n",
    "    else:\n",
    "        print('創帳成功!\\n帳戶名為:',acc.acc_name,'\\n帳戶金額:',acc.acc_money)\n",
    "    return acc\n",
    "class Account:\n",
    "    def __init__(self, name, money):\n",
    "        self.acc_name = name\n",
    "        self.acc_money = money\n",
    "    def withdraw(self, take):\n",
    "        if take <= self.acc_money:\n",
    "            print('可以提領，請稍後...')\n",
    "            self.acc_money -= take\n",
    "            print('帳戶剩餘金額:',self.acc_money)\n",
    "        else:\n",
    "            print('金額不足，無法提領')\n",
    "    def save(self, savemoney):\n",
    "        print('帳戶金額:',self.acc_money)\n",
    "        ch = input('確定執行?y/n: ')\n",
    "        if ch == 'y':\n",
    "            self.acc_money += savemoney\n",
    "            print('存款成功，剩餘金額為:',self.acc_money)\n",
    "        else:\n",
    "            print('存款失敗')\n",
    "while True:\n",
    "    write = input('您的動作:')\n",
    "    if write == 'build':\n",
    "        acc = build()\n",
    "    elif write == 'withdraw':\n",
    "        take = int(input('我要提領:'))\n",
    "        acc.withdraw(take)\n",
    "    elif write == 'save':\n",
    "        savemoney = int(input('我要存款:'))\n",
    "        acc.save(savemoney)\n",
    "    elif write == 'leave':\n",
    "        break"
   ]
  }
 ],
 "metadata": {
  "kernelspec": {
   "display_name": "Python 3",
   "language": "python",
   "name": "python3"
  },
  "language_info": {
   "codemirror_mode": {
    "name": "ipython",
    "version": 3
   },
   "file_extension": ".py",
   "mimetype": "text/x-python",
   "name": "python",
   "nbconvert_exporter": "python",
   "pygments_lexer": "ipython3",
   "version": "3.7.3"
  }
 },
 "nbformat": 4,
 "nbformat_minor": 2
}
