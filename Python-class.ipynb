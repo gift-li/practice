{
 "cells": [
  {
   "cell_type": "code",
   "execution_count": null,
   "metadata": {},
   "outputs": [],
   "source": [
    "# basic class\n",
    "class Dog:\n",
    "    def __init__(self, blood, age):\n",
    "        self.bloodtype = blood\n",
    "        self.dog_age = age\n",
    "d = Dog(\"B\",23)\n",
    "c = Dog(\"O\",4)\n",
    "print(d.bloodtype)"
   ]
  },
  {
   "cell_type": "code",
   "execution_count": null,
   "metadata": {},
   "outputs": [],
   "source": [
    "# (class test) : whether class can save in the list and get correct identity\n",
    "class A:\n",
    "    def __init__ (self, money):\n",
    "        self.m = money\n",
    "c = []\n",
    "for i in range(3):\n",
    "    a = input()\n",
    "    b = A(a)\n",
    "    c.append(b)\n",
    "d = input()\n",
    "e = c.index(d)\n",
    "print(e)"
   ]
  }
 ],
 "metadata": {
  "kernelspec": {
   "display_name": "Python 3",
   "language": "python",
   "name": "python3"
  },
  "language_info": {
   "codemirror_mode": {
    "name": "ipython",
    "version": 3
   },
   "file_extension": ".py",
   "mimetype": "text/x-python",
   "name": "python",
   "nbconvert_exporter": "python",
   "pygments_lexer": "ipython3",
   "version": "3.7.3"
  }
 },
 "nbformat": 4,
 "nbformat_minor": 2
}
